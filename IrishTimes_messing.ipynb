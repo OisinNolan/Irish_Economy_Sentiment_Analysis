{
 "cells": [
  {
   "cell_type": "code",
   "execution_count": 57,
   "metadata": {},
   "outputs": [],
   "source": [
    "import pandas as pd\n",
    "import numpy as np\n",
    "import matplotlib.pyplot as plt\n",
    "\n",
    "from bs4 import BeautifulSoup\n",
    "import nltk\n",
    "import string\n",
    "\n",
    "%matplotlib inline\n",
    "# activate plot theme\n",
    "import qeds\n",
    "qeds.themes.mpl_style();"
   ]
  },
  {
   "cell_type": "code",
   "execution_count": 58,
   "metadata": {},
   "outputs": [
    {
     "name": "stdout",
     "output_type": "stream",
     "text": [
      "[nltk_data] Downloading package punkt to C:\\Users\\conor.DESKTOP-\n",
      "[nltk_data]     ERR8F68\\AppData\\Roaming\\nltk_data...\n",
      "[nltk_data]   Unzipping tokenizers\\punkt.zip.\n",
      "[nltk_data] Downloading package stopwords to C:\\Users\\conor.DESKTOP-\n",
      "[nltk_data]     ERR8F68\\AppData\\Roaming\\nltk_data...\n",
      "[nltk_data]   Unzipping corpora\\stopwords.zip.\n",
      "[nltk_data] Downloading package wordnet to C:\\Users\\conor.DESKTOP-\n",
      "[nltk_data]     ERR8F68\\AppData\\Roaming\\nltk_data...\n",
      "[nltk_data]   Unzipping corpora\\wordnet.zip.\n"
     ]
    },
    {
     "data": {
      "text/plain": [
       "True"
      ]
     },
     "execution_count": 58,
     "metadata": {},
     "output_type": "execute_result"
    }
   ],
   "source": [
    "nltk.download('punkt')\n",
    "nltk.download('stopwords')\n",
    "nltk.download('wordnet')"
   ]
  },
  {
   "cell_type": "code",
   "execution_count": 349,
   "metadata": {},
   "outputs": [
    {
     "data": {
      "text/html": [
       "<div>\n",
       "<style scoped>\n",
       "    .dataframe tbody tr th:only-of-type {\n",
       "        vertical-align: middle;\n",
       "    }\n",
       "\n",
       "    .dataframe tbody tr th {\n",
       "        vertical-align: top;\n",
       "    }\n",
       "\n",
       "    .dataframe thead th {\n",
       "        text-align: right;\n",
       "    }\n",
       "</style>\n",
       "<table border=\"1\" class=\"dataframe\">\n",
       "  <thead>\n",
       "    <tr style=\"text-align: right;\">\n",
       "      <th></th>\n",
       "      <th>Title</th>\n",
       "      <th>Date</th>\n",
       "      <th>Body</th>\n",
       "    </tr>\n",
       "  </thead>\n",
       "  <tbody>\n",
       "    <tr>\n",
       "      <th>0</th>\n",
       "      <td>Decathlon’s Dublin opening, tobacco battles ov...</td>\n",
       "      <td>2020-06-09</td>\n",
       "      <td>The HSE is investigating if some tobacco compa...</td>\n",
       "    </tr>\n",
       "    <tr>\n",
       "      <th>1</th>\n",
       "      <td>Doubling down on a good hand</td>\n",
       "      <td>2020-06-09</td>\n",
       "      <td>From an Irish perspective, one of the big diff...</td>\n",
       "    </tr>\n",
       "    <tr>\n",
       "      <th>2</th>\n",
       "      <td>Dublin most expensive place to live in euro zo...</td>\n",
       "      <td>2020-06-09</td>\n",
       "      <td>Spiralling accommodation costs have made Dubli...</td>\n",
       "    </tr>\n",
       "    <tr>\n",
       "      <th>3</th>\n",
       "      <td>Businesses to seek instant end to lockdown and...</td>\n",
       "      <td>2020-06-08</td>\n",
       "      <td>Ibec chief executive Danny McCoy will call for...</td>\n",
       "    </tr>\n",
       "    <tr>\n",
       "      <th>4</th>\n",
       "      <td>Call for zero rate VAT as stores reopen; CRH U...</td>\n",
       "      <td>2020-06-08</td>\n",
       "      <td>The Government should consider introducing a z...</td>\n",
       "    </tr>\n",
       "  </tbody>\n",
       "</table>\n",
       "</div>"
      ],
      "text/plain": [
       "                                               Title        Date  \\\n",
       "0  Decathlon’s Dublin opening, tobacco battles ov...  2020-06-09   \n",
       "1                       Doubling down on a good hand  2020-06-09   \n",
       "2  Dublin most expensive place to live in euro zo...  2020-06-09   \n",
       "3  Businesses to seek instant end to lockdown and...  2020-06-08   \n",
       "4  Call for zero rate VAT as stores reopen; CRH U...  2020-06-08   \n",
       "\n",
       "                                                Body  \n",
       "0  The HSE is investigating if some tobacco compa...  \n",
       "1  From an Irish perspective, one of the big diff...  \n",
       "2  Spiralling accommodation costs have made Dubli...  \n",
       "3  Ibec chief executive Danny McCoy will call for...  \n",
       "4  The Government should consider introducing a z...  "
      ]
     },
     "execution_count": 349,
     "metadata": {},
     "output_type": "execute_result"
    }
   ],
   "source": [
    "data = pd.read_csv(\"C:\\\\Users\\\\conor.DESKTOP-ERR8F68\\\\OneDrive\\\\Documents\\\\GitHub\\\\Irish_Economy_Sentiment_Analysis\\\\csv\\\\trial2.csv\",\n",
    "                   header = None)\n",
    "\n",
    "data = data.rename(columns={0: \"Title\", 1: \"Date\", 2: \"Body\"})\n",
    "\n",
    "data = data.dropna()\n",
    "\n",
    "data.head()"
   ]
  },
  {
   "cell_type": "code",
   "execution_count": 350,
   "metadata": {},
   "outputs": [],
   "source": [
    "def identify_tokens(dataframe, col):\n",
    "    \"\"\"Tokenizes the body of each article; not the title\"\"\"\n",
    "    \n",
    "    text = dataframe[col]\n",
    "    tokens = nltk.word_tokenize(text)\n",
    "    # taken only words (not punctuation)\n",
    "    token_words = [w for w in tokens if w.isalpha()]\n",
    "    return token_words\n",
    "\n",
    "data[\"title_words\"] = data.apply(identify_tokens, args=(\"Title\",), axis=1)\n",
    "data[\"body_words\"] = data.apply(identify_tokens, args=(\"Body\",), axis=1)"
   ]
  },
  {
   "cell_type": "code",
   "execution_count": 351,
   "metadata": {},
   "outputs": [],
   "source": [
    "# Convert tokens to lowercase\n",
    "data[\"title_words\"] = data[\"title_words\"].map(lambda x: list(map(str.lower, x)))\n",
    "data[\"body_words\"] = data[\"body_words\"].map(lambda x: list(map(str.lower, x)))"
   ]
  },
  {
   "cell_type": "code",
   "execution_count": 352,
   "metadata": {},
   "outputs": [],
   "source": [
    "stops = set(nltk.corpus.stopwords.words(\"english\"))\n",
    "\n",
    "def remove_stops(dataframe, col):\n",
    "    my_list = dataframe[col]\n",
    "    meaningful_words = [w for w in my_list if not w in stops]\n",
    "    return (meaningful_words)\n",
    "\n",
    "data[\"title_meaningful\"] = data.apply(remove_stops, args = (\"title_words\", ), axis=1)\n",
    "data[\"body_meaningful\"] = data.apply(remove_stops, args = (\"body_words\", ), axis=1)"
   ]
  },
  {
   "cell_type": "code",
   "execution_count": 369,
   "metadata": {},
   "outputs": [],
   "source": [
    "# Move date to index such that date can be accessed as time series\n",
    "data[\"Date\"]= pd.to_datetime(data[\"Date\"], format = '%Y-%m-%d')\n",
    "data = data.set_index([pd.DatetimeIndex(data[\"Date\"])])\n",
    "data = data.sort_index(axis=0, ascending=True)\n",
    "data = data.drop(columns = \"Date\")"
   ]
  },
  {
   "cell_type": "code",
   "execution_count": 370,
   "metadata": {},
   "outputs": [],
   "source": [
    "def wordfreq(dataframe, col, buzzword):\n",
    "    my_list = dataframe[col]\n",
    "    wf = my_list.count(buzzword)\n",
    "    return wf"
   ]
  },
  {
   "cell_type": "code",
   "execution_count": 415,
   "metadata": {
    "scrolled": true
   },
   "outputs": [],
   "source": [
    "data_count = data\n",
    "data_count[\"buzzword\"] = data_count.apply(wordfreq, args = (\"body_meaningful\", \"default\"), axis = 1)"
   ]
  },
  {
   "cell_type": "code",
   "execution_count": 416,
   "metadata": {},
   "outputs": [
    {
     "data": {
      "image/png": "[encoded data removed]",
      "text/plain": [
       "<Figure size 864x576 with 1 Axes>"
      ]
     },
     "metadata": {},
     "output_type": "display_data"
    }
   ],
   "source": [
    "monthly_data = data_count.resample('M')\n",
    "word_count = monthly_data.sum()\n",
    "word_count.plot(legend = False, figsize = (12, 8))\n",
    "plt.show()"
   ]
  },
  {
   "cell_type": "code",
   "execution_count": null,
   "metadata": {},
   "outputs": [],
   "source": []
  }
 ],
 "metadata": {
  "kernelspec": {
   "display_name": "Python 3",
   "language": "python",
   "name": "python3"
  },
  "language_info": {
   "codemirror_mode": {
    "name": "ipython",
    "version": 3
   },
   "file_extension": ".py",
   "mimetype": "text/x-python",
   "name": "python",
   "nbconvert_exporter": "python",
   "pygments_lexer": "ipython3",
   "version": "3.6.5"
  }
 },
 "nbformat": 4,
 "nbformat_minor": 2
}

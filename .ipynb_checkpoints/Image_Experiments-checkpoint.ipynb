{
 "cells": [
  {
   "cell_type": "code",
   "execution_count": 2,
   "metadata": {},
   "outputs": [
    {
     "name": "stdout",
     "output_type": "stream",
     "text": [
      "breakdown of the Brussels talks\n",
      "remains fundamentally the same.\n",
      "The principal new danger is that\n",
      "the combination of uncertainty and\n",
      "temporary relief may induce a re-\n",
      "lapse into ihe bad habits of the\n",
      "past. On the other hand, Teiand\n",
      "| may now have the opportunity to\n",
      "| move towards free trade at a pace\n",
      "2 closely geared to the realities\n",
      "\n",
      " \n",
      "\n",
      "of her situation. It is to the best\n",
      "ways of performing this task of\n",
      "economic survival:that our political\n",
      "controversies must now return,\n",
      "after their long excursion into such\n",
      "issues as the defence of the West\n",
      "and commitment or, non-commit-\n",
      "‘ment to the European idea\n"
     ]
    }
   ],
   "source": [
    "import cv2\n",
    "import pytesseract\n",
    "\n",
    "img = cv2.imread('img/Ar0051001.png')\n",
    "text = pytesseract.image_to_string(img)\n",
    "print(text)"
   ]
  },
  {
   "cell_type": "code",
   "execution_count": 4,
   "metadata": {},
   "outputs": [],
   "source": [
    "import cv2\n",
    "import pytesseract\n",
    "import requests\n",
    "from bs4 import BeautifulSoup\n",
    "import datetime\n",
    "import pandas as pd\n",
    "import numpy as np"
   ]
  },
  {
   "cell_type": "code",
   "execution_count": 46,
   "metadata": {},
   "outputs": [],
   "source": [
    "def parseArticles( url ):\n",
    "    \n",
    "    authHeader = {\"cookie\" : \"CookieConsent={stamp:'At+QvMSrF6+ASPVlE5qRhUYEZteafHPGGzagH0c7AXxFSeM6VrXsMQ=='%2Cnecessary:true%2Cpreferences:true%2Cstatistics:true%2Cmarketing:true%2Cver:1%2Cutc:1570551921293}; _gcl_au=1.1.407725412.1587994023; _ga=GA1.2.1294333594.1587994023; _cb_ls=1; _cb=BBB6Y9Db3Y0RBDFyui; IT_paywall=2842c7b94bfa7d78aaec155eaa266216; IT_pw_userdata=17688946; pw_username=Bvf%C3%ADa; IT_entitlements=app%2Ccrossword%2Cpaywall%2Carchive; _v__chartbeat3=BvWaBGBm9SWkkvpWS; __atssc=google%3B14%2Cfacebook%3B1; IT_country=IE; IT_eu=true; _gid=GA1.2.1562182266.1591959275; _vfa=www%2Eirishtimes%2Ecom.00000000-0000-4000-8000-077217628b05.5125212c-f33c-4407-a9ad-50965ba93b5c.1587994028.1591794634.1591959275.16; IT_UUID=b99832e4-301a-417a-8a96-b53a111154b3; AuthCookie_Newspaper=fphf0e49utdjpu3bvbti7i3s26; authchallenge=0e9f89ee128c38e70928484f595a5983; IT_rh=NDI3Mjk2Miw0MjcwNjM5LDQyNzE0NzQsNDI1NzUzMyw0MjU0MzE5LDQyMDEwODksMzE1MzM4MCwxMzE5MzMyLDEzMTkzNDksMTgzNzg%3D; IT_PW_AUTH=1591959952.17688946.2842c7b94bfa7d78aaec155eaa266216.3ydNJ_-4wCsUQMOv50rlS_XMANGTpSTU2SJidrlvNcs; apw_cache=37e9f7de-b3b8-4adf-afeb-81f2b0cde982.1591277524.okJXLQ.IE.0...1591960236.1591959477.KHByZW1pdW0sMTU5MTk4MTM3NyxhcHB8Y3Jvc3N3b3JkfG5ld3N8YXJjaGl2ZSwxNjExNDg2NTczKQ.1591981077.OD3j8PMKpJ2ZNyT9Xfn_El40GBYFSMMzbUMANAgTHUU; _chartbeat2=.1546123761608.1591960254941.0000000100001101.Dx7IoqBWqD3lCfA-yDALEor-T6YM.19; CFTOKEN=113F4AB5-1199-AE04-F71316ADB3D3E75D; CFID=280893; __utmc=180731896; __utmz=180731896.1591960635.1.1.utmcsr=(direct)|utmccn=(direct)|utmcmd=(none); AuthCookie_ImageToken=25%3A41%3Ac4c78bd6891fd2a07c42fb8a46c355f3; __utma=180731896.1294333594.1587994023.1591960635.1591962991.2; __utmt=1; __utmb=180731896.1.10.1591962991; AMP_TOKEN=%24NOT_FOUND; _dc_gtm_UA-850873-29=1; _gat_UA-135237726-1=1; _gat_UA-850873-29=1; __atuvc=7%7C20%2C25%7C21%2C0%7C22%2C9%7C23%2C117%7C24; __atuvs=5ee36d70a41ec32e000\"}\n",
    "    \n",
    "    page = requests.get(url, headers=authHeader)\n",
    "    htmlResponse = page.text\n",
    "    \n",
    "    soup = BeautifulSoup(htmlResponse, 'html.parser')\n",
    "    imgElems = soup.find_all(\"img\", {\"class\": \"snippet\"})\n",
    "    \n",
    "    for imgElem in imgElems:\n",
    "        # Get url to preview image\n",
    "        imgPreviewUrl = imgElem['src']\n",
    "        \n",
    "        # Get date from url\n",
    "        urlDateIndex = imgPreviewUrl.rfind('/')\n",
    "        day = imgPreviewUrl[urlDateIndex-2:urlDateIndex]\n",
    "        month = imgPreviewUrl[urlDateIndex-4:urlDateIndex-2]\n",
    "        year = imgPreviewUrl[urlDateIndex-9:urlDateIndex-5]\n",
    "        date = year + \"-\" + month + \"-\" + day\n",
    "        \n",
    "        # Use preview image url to find actual image url (replace 'S' with '00', which is an index\n",
    "        # for the article section visible in the image)\n",
    "        pngIndex = imgPreviewUrl.find('.png')\n",
    "        articlePartIndex = 0\n",
    "        imgUrl = imgPreviewUrl[:pngIndex-1] + '0' + str(articlePartIndex) + imgPreviewUrl[pngIndex:]\n",
    "        \n",
    "        # Get the image from the URL created above\n",
    "        resp = requests.get(\"https://www.irishtimes.com\" + imgUrl, stream=True).raw\n",
    "        \n",
    "        articleText = \"\"\n",
    "        \n",
    "        # Only process the image if there is an OK (200) response\n",
    "        while resp.status == 200:\n",
    "            # Extract text from image\n",
    "            image = np.asarray(bytearray(resp.read()), dtype=\"uint8\")\n",
    "            image = cv2.imdecode(image, cv2.IMREAD_COLOR)\n",
    "            sectionText = pytesseract.image_to_string(image)\n",
    "            \n",
    "            articleText += sectionText\n",
    "\n",
    "            # Generate url for next section of article\n",
    "            articlePartIndex += 1\n",
    "            imgUrl = imgPreviewUrl[:pngIndex-1] + '0' + str(articlePartIndex) + imgPreviewUrl[pngIndex:]\n",
    "            resp = requests.get(\"https://www.irishtimes.com\" + imgUrl, stream=True).raw\n",
    "            \n",
    "        # Make a DataFrame with these values in a row, and append that row to a csv file\n",
    "        data = [[date, articleText]]\n",
    "        df = pd.DataFrame(data, columns=['date', 'text'])\n",
    "        df.to_csv('imgTrial2.csv', mode='a', header=False, index=False)"
   ]
  },
  {
   "cell_type": "code",
   "execution_count": 45,
   "metadata": {},
   "outputs": [],
   "source": [
    "url = \"https://www.irishtimes.com/search/archive.html?q=%22irish+economy%22&fromDate=&toDate=&rm=listresults&start=00&sortOrder=oldest\"\n",
    "parseArticle(url)"
   ]
  },
  {
   "cell_type": "code",
   "execution_count": 48,
   "metadata": {},
   "outputs": [],
   "source": [
    "urlStart = \"https://www.irishtimes.com/search/archive.html?q=%22irish+economy%22&fromDate=&toDate=&rm=listresults&start=\"\n",
    "urlEnd = \"0&sortOrder=oldest\"\n",
    "\n",
    "for i in range(101,1200):\n",
    "    baseUrl = urlStart + str(i) + urlEnd\n",
    "    parseArticles(baseUrl)\n",
    "        "
   ]
  }
 ],
 "metadata": {
  "kernelspec": {
   "display_name": "Python 3",
   "language": "python",
   "name": "python3"
  },
  "language_info": {
   "codemirror_mode": {
    "name": "ipython",
    "version": 3
   },
   "file_extension": ".py",
   "mimetype": "text/x-python",
   "name": "python",
   "nbconvert_exporter": "python",
   "pygments_lexer": "ipython3",
   "version": "3.7.6"
  }
 },
 "nbformat": 4,
 "nbformat_minor": 4
}

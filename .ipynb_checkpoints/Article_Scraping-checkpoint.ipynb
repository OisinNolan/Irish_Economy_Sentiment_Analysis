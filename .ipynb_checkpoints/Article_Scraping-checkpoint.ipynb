{
 "cells": [
  {
   "cell_type": "markdown",
   "metadata": {},
   "source": [
    "# Scraping articles from Irish Times website"
   ]
  },
  {
   "cell_type": "code",
   "execution_count": 5,
   "metadata": {
    "scrolled": true
   },
   "outputs": [],
   "source": [
    "import requests\n",
    "from bs4 import BeautifulSoup\n",
    "import datetime\n",
    "import pandas as pd\n"
   ]
  },
  {
   "cell_type": "code",
   "execution_count": 42,
   "metadata": {},
   "outputs": [],
   "source": [
    "def parseArticle( url ):\n",
    "    \n",
    "    page = requests.get(url)\n",
    "    htmlResponse = page.text\n",
    "    \n",
    "    soup = BeautifulSoup(htmlResponse, 'html.parser')\n",
    "    \n",
    "    # Ensure article is not 'subscriber only'\n",
    "    subOnlyElem = soup.find(\"div\", {\"class\": \"intercept-modal\"})\n",
    "    if(subOnlyElem != None):\n",
    "        return\n",
    "    \n",
    "    # Get article title\n",
    "    headerSectionElem = soup.find(\"hgroup\")\n",
    "    titleElem = headerSectionElem.find(\"h1\")\n",
    "    titleText = titleElem.text\n",
    "    print(titleText)\n",
    "    \n",
    "    # Get article date\n",
    "    timeElem = soup.find(\"time\")\n",
    "    timeText = timeElem.text\n",
    "    timeText = timeText[:timeText.rindex(',')]\n",
    "    dateText = datetime.datetime.strptime(timeText, '%a, %b %d, %Y').strftime('%Y-%m-%d')\n",
    "    \n",
    "    # Get article text\n",
    "    articleElem = soup.find(\"div\", {\"class\": \"article_bodycopy\"})\n",
    "    print(articleElem)\n",
    "    paragraphElems = articleElem.find_all(\"p\", {\"class\": \"selectionShareable\"})\n",
    "    \n",
    "    paragraphText = \"\"\n",
    "    \n",
    "    for paragraphElem in paragraphElems:\n",
    "        paragraphText += paragraphElem.text \n",
    "        \n",
    "    data = [[titleText, dateText, paragraphText]]\n",
    "    df = pd.DataFrame(data, columns=['title', 'date', 'text'])\n",
    "    df.to_csv('trial2.csv', mode='a', header=False, index=False)\n",
    "    "
   ]
  },
  {
   "cell_type": "code",
   "execution_count": 34,
   "metadata": {},
   "outputs": [],
   "source": [
    "def getArticleLinks( url ):\n",
    "    articleUrls = []\n",
    "    \n",
    "    page = requests.get(url)\n",
    "    htmlResponse = page.text\n",
    "    \n",
    "    soup = BeautifulSoup(htmlResponse, 'html.parser')\n",
    "    searchResultDivs = soup.find_all(\"div\", {\"class\": \"search_items_title\"})\n",
    "    \n",
    "    for searchResultDiv in searchResultDivs:\n",
    "            spanElem = searchResultDiv.find(\"span\", {\"class\":\"h2\"})\n",
    "            articleUrls.append('https://www.irishtimes.com' + spanElem.contents[0]['href'])\n",
    "    \n",
    "    return articleUrls"
   ]
  },
  {
   "cell_type": "code",
   "execution_count": 43,
   "metadata": {
    "scrolled": true
   },
   "outputs": [
    {
     "name": "stdout",
     "output_type": "stream",
     "text": [
      "529\n",
      "['https://www.irishtimes.com/business/economy/cantillon-1.1319332', 'https://www.irishtimes.com/business/economy/europe/europe-can-be-a-leader-of-the-new-industrial-revolution-1.1319323', 'https://www.irishtimes.com/business/economy/europe/we-should-explore-any-avenue-that-will-help-ireland-stand-on-its-own-feet-1.1319349', 'https://www.irishtimes.com/business/economy/world/irish-service-sector-grows-at-slowest-rate-in-six-months-1.1318166', 'https://www.irishtimes.com/business/economy/swiss-pay-cap-puts-some-execs-in-the-soup-1.1317400', 'https://www.irishtimes.com/business/economy/ireland/irish-consumer-sentiment-plunges-1.1318319', 'https://www.irishtimes.com/business/economy/ireland/services-sector-slows-in-february-1.1318352', 'https://www.irishtimes.com/business/economy/ireland/troika-to-devise-extension-options-1.1318281', 'https://www.irishtimes.com/business/economy/ireland/businesses-want-postcodes-introduced-1.1317055', 'https://www.irishtimes.com/business/economy/ireland/davy-lifts-forecast-for-irish-economy-1.1317057']\n",
      "Cantillon\n",
      "Europe can be a leader of the 'new industrial revolution'\n",
      "'We should explore any avenue that will help Ireland stand on its own feet'\n",
      "Irish service sector grows at slowest rate in six months\n",
      "Swiss pay cap puts some execs in the soup\n",
      "Irish consumer sentiment plunges\n",
      "Services sector slows in February\n",
      "Troika to devise extension options\n",
      "Businesses want postcodes introduced\n",
      "Davy lifts forecast for Irish economy\n",
      "530\n",
      "['https://www.irishtimes.com/business/economy/cantillon-1.1316733', 'https://www.irishtimes.com/business/economy/europe/ireland-and-germany-see-growth-in-manufacturing-1.1316720', 'https://www.irishtimes.com/business/economy/employment/10-000-reasons-for-optimism-1.1316507', 'https://www.irishtimes.com/business/economy/digicel-decision-follows-familiar-pattern-1.1316054', 'https://www.irishtimes.com/business/economy/europe/barroso-respects-irish-sacrifices-1.1354879', 'https://www.irishtimes.com/business/economy/employment/hopes-of-economic-recovery-rise-1.1354785', 'https://www.irishtimes.com/business/economy/little-scope-for-influence-at-eu-meetings-1.1315080', 'https://www.irishtimes.com/business/economy/ireland/bank-guarantee-scheme-to-end-1.1354684', 'https://www.irishtimes.com/business/economy/small-becomes-more-beautiful-to-state-1.1314165', 'https://www.irishtimes.com/business/economy/france-finds-the-grizz-pulls-no-punches-1.1313579']\n",
      "Cantillon\n",
      "Ireland and Germany see growth in manufacturing\n",
      "10,000 reasons for optimism\n",
      "Digicel decision follows familiar pattern\n",
      "Barroso 'respects' Irish sacrifices\n",
      "Hopes of economic recovery rise\n",
      "Little scope for influence at EU meetings\n",
      "Bank guarantee scheme to end\n",
      "Small becomes more beautiful to State\n",
      "France finds 'The Grizz' pulls no punches\n",
      "531\n",
      "['https://www.irishtimes.com/business/economy/ireland/deal-shows-ireland-has-travelled-good-distance-says-noonan-1.1313569', 'https://www.irishtimes.com/business/economy/europe/return-to-health-and-reform-vital-to-euro-zone-1.1313406', 'https://www.irishtimes.com/business/economy/impact-to-argue-against-plan-for-forests-1.1253081', 'https://www.irishtimes.com/business/economy/cantillon-1.1252562', 'https://www.irishtimes.com/business/economy/ireland/citibank-optimistic-on-outlook-for-ireland-1.1252545', 'https://www.irishtimes.com/business/economy/europe/weidmann-warns-on-debt-deal-1.1253257', 'https://www.irishtimes.com/business/economy/ireland/irish-prospects-better-than-expected-1.1253235', 'https://www.irishtimes.com/business/economy/examinership-a-bitter-pill-for-landlords-1.1251968', 'https://www.irishtimes.com/business/economy/ireland/irish-exports-top-92bn-in-2012-1.1255028', 'https://www.irishtimes.com/business/economy/ireland/bill-highlights-dire-nature-of-banking-sector-collapse-1.1251768']\n",
      "Deal shows Ireland has travelled 'good distance', says Noonan\n",
      "Return to health and reform vital to euro zone\n",
      "Impact to argue against plan for forests\n",
      "Cantillon\n",
      "Citibank optimistic on outlook for Ireland\n",
      "Weidmann warns on debt deal\n",
      "Irish prospects 'better than expected'\n",
      "Examinership a bitter pill for landlords\n",
      "Irish exports top €92bn in 2012\n",
      "Bill highlights dire nature of banking sector collapse\n",
      "532\n",
      "['https://www.irishtimes.com/business/economy/governor-s-dilemma-over-banking-crisis-1.1251538', 'https://www.irishtimes.com/business/economy/ireland/s-p-upgrades-irish-debt-outlook-1.1255008', 'https://www.irishtimes.com/business/economy/world/go-by-the-book-to-step-up-strategy-1.1251563', 'https://www.irishtimes.com/business/economy/ireland/debt-deal-may-not-relieve-austerity-says-moran-1.1251266', 'https://www.irishtimes.com/business/economy/cantillon-1.1250967', 'https://www.irishtimes.com/business/economy/ireland/gilmore-delighted-anglo-has-been-wiped-off-business-map-1.1250953', 'https://www.irishtimes.com/business/economy/ireland/massive-irish-gains-from-open-markets-1.1250666', 'https://www.irishtimes.com/business/economy/public-finances/eu-budget-talks-in-brussels-begin-1.1254852', 'https://www.irishtimes.com/business/economy/world/developers-turn-to-shadow-banks-as-chinese-property-market-slows-1.1254195', 'https://www.irishtimes.com/business/economy/cantillon-1.1253829']\n",
      "Governor's dilemma over banking crisis\n",
      "S&P upgrades Irish debt outlook\n"
     ]
    },
    {
     "ename": "KeyboardInterrupt",
     "evalue": "",
     "output_type": "error",
     "traceback": [
      "\u001b[0;31m---------------------------------------------------------------------------\u001b[0m",
      "\u001b[0;31mKeyboardInterrupt\u001b[0m                         Traceback (most recent call last)",
      "\u001b[0;32m<ipython-input-43-741f8c6d7002>\u001b[0m in \u001b[0;36m<module>\u001b[0;34m\u001b[0m\n\u001b[1;32m      6\u001b[0m     \u001b[0mprint\u001b[0m\u001b[0;34m(\u001b[0m\u001b[0marticleLinks\u001b[0m\u001b[0;34m)\u001b[0m\u001b[0;34m\u001b[0m\u001b[0;34m\u001b[0m\u001b[0m\n\u001b[1;32m      7\u001b[0m     \u001b[0;32mfor\u001b[0m \u001b[0mlink\u001b[0m \u001b[0;32min\u001b[0m \u001b[0marticleLinks\u001b[0m\u001b[0;34m:\u001b[0m\u001b[0;34m\u001b[0m\u001b[0;34m\u001b[0m\u001b[0m\n\u001b[0;32m----> 8\u001b[0;31m         \u001b[0mparseArticle\u001b[0m\u001b[0;34m(\u001b[0m\u001b[0mlink\u001b[0m\u001b[0;34m)\u001b[0m\u001b[0;34m\u001b[0m\u001b[0;34m\u001b[0m\u001b[0m\n\u001b[0m\u001b[1;32m      9\u001b[0m \u001b[0;34m\u001b[0m\u001b[0m\n",
      "\u001b[0;32m<ipython-input-42-2c2c9677a1be>\u001b[0m in \u001b[0;36mparseArticle\u001b[0;34m(url)\u001b[0m\n\u001b[1;32m      1\u001b[0m \u001b[0;32mdef\u001b[0m \u001b[0mparseArticle\u001b[0m\u001b[0;34m(\u001b[0m \u001b[0murl\u001b[0m \u001b[0;34m)\u001b[0m\u001b[0;34m:\u001b[0m\u001b[0;34m\u001b[0m\u001b[0;34m\u001b[0m\u001b[0m\n\u001b[1;32m      2\u001b[0m \u001b[0;34m\u001b[0m\u001b[0m\n\u001b[0;32m----> 3\u001b[0;31m     \u001b[0mpage\u001b[0m \u001b[0;34m=\u001b[0m \u001b[0mrequests\u001b[0m\u001b[0;34m.\u001b[0m\u001b[0mget\u001b[0m\u001b[0;34m(\u001b[0m\u001b[0murl\u001b[0m\u001b[0;34m)\u001b[0m\u001b[0;34m\u001b[0m\u001b[0;34m\u001b[0m\u001b[0m\n\u001b[0m\u001b[1;32m      4\u001b[0m     \u001b[0mhtmlResponse\u001b[0m \u001b[0;34m=\u001b[0m \u001b[0mpage\u001b[0m\u001b[0;34m.\u001b[0m\u001b[0mtext\u001b[0m\u001b[0;34m\u001b[0m\u001b[0;34m\u001b[0m\u001b[0m\n\u001b[1;32m      5\u001b[0m \u001b[0;34m\u001b[0m\u001b[0m\n",
      "\u001b[0;32m/opt/anaconda3/lib/python3.7/site-packages/requests/api.py\u001b[0m in \u001b[0;36mget\u001b[0;34m(url, params, **kwargs)\u001b[0m\n\u001b[1;32m     73\u001b[0m \u001b[0;34m\u001b[0m\u001b[0m\n\u001b[1;32m     74\u001b[0m     \u001b[0mkwargs\u001b[0m\u001b[0;34m.\u001b[0m\u001b[0msetdefault\u001b[0m\u001b[0;34m(\u001b[0m\u001b[0;34m'allow_redirects'\u001b[0m\u001b[0;34m,\u001b[0m \u001b[0;32mTrue\u001b[0m\u001b[0;34m)\u001b[0m\u001b[0;34m\u001b[0m\u001b[0;34m\u001b[0m\u001b[0m\n\u001b[0;32m---> 75\u001b[0;31m     \u001b[0;32mreturn\u001b[0m \u001b[0mrequest\u001b[0m\u001b[0;34m(\u001b[0m\u001b[0;34m'get'\u001b[0m\u001b[0;34m,\u001b[0m \u001b[0murl\u001b[0m\u001b[0;34m,\u001b[0m \u001b[0mparams\u001b[0m\u001b[0;34m=\u001b[0m\u001b[0mparams\u001b[0m\u001b[0;34m,\u001b[0m \u001b[0;34m**\u001b[0m\u001b[0mkwargs\u001b[0m\u001b[0;34m)\u001b[0m\u001b[0;34m\u001b[0m\u001b[0;34m\u001b[0m\u001b[0m\n\u001b[0m\u001b[1;32m     76\u001b[0m \u001b[0;34m\u001b[0m\u001b[0m\n\u001b[1;32m     77\u001b[0m \u001b[0;34m\u001b[0m\u001b[0m\n",
      "\u001b[0;32m/opt/anaconda3/lib/python3.7/site-packages/requests/api.py\u001b[0m in \u001b[0;36mrequest\u001b[0;34m(method, url, **kwargs)\u001b[0m\n\u001b[1;32m     58\u001b[0m     \u001b[0;31m# cases, and look like a memory leak in others.\u001b[0m\u001b[0;34m\u001b[0m\u001b[0;34m\u001b[0m\u001b[0;34m\u001b[0m\u001b[0m\n\u001b[1;32m     59\u001b[0m     \u001b[0;32mwith\u001b[0m \u001b[0msessions\u001b[0m\u001b[0;34m.\u001b[0m\u001b[0mSession\u001b[0m\u001b[0;34m(\u001b[0m\u001b[0;34m)\u001b[0m \u001b[0;32mas\u001b[0m \u001b[0msession\u001b[0m\u001b[0;34m:\u001b[0m\u001b[0;34m\u001b[0m\u001b[0;34m\u001b[0m\u001b[0m\n\u001b[0;32m---> 60\u001b[0;31m         \u001b[0;32mreturn\u001b[0m \u001b[0msession\u001b[0m\u001b[0;34m.\u001b[0m\u001b[0mrequest\u001b[0m\u001b[0;34m(\u001b[0m\u001b[0mmethod\u001b[0m\u001b[0;34m=\u001b[0m\u001b[0mmethod\u001b[0m\u001b[0;34m,\u001b[0m \u001b[0murl\u001b[0m\u001b[0;34m=\u001b[0m\u001b[0murl\u001b[0m\u001b[0;34m,\u001b[0m \u001b[0;34m**\u001b[0m\u001b[0mkwargs\u001b[0m\u001b[0;34m)\u001b[0m\u001b[0;34m\u001b[0m\u001b[0;34m\u001b[0m\u001b[0m\n\u001b[0m\u001b[1;32m     61\u001b[0m \u001b[0;34m\u001b[0m\u001b[0m\n\u001b[1;32m     62\u001b[0m \u001b[0;34m\u001b[0m\u001b[0m\n",
      "\u001b[0;32m/opt/anaconda3/lib/python3.7/site-packages/requests/sessions.py\u001b[0m in \u001b[0;36mrequest\u001b[0;34m(self, method, url, params, data, headers, cookies, files, auth, timeout, allow_redirects, proxies, hooks, stream, verify, cert, json)\u001b[0m\n\u001b[1;32m    531\u001b[0m         }\n\u001b[1;32m    532\u001b[0m         \u001b[0msend_kwargs\u001b[0m\u001b[0;34m.\u001b[0m\u001b[0mupdate\u001b[0m\u001b[0;34m(\u001b[0m\u001b[0msettings\u001b[0m\u001b[0;34m)\u001b[0m\u001b[0;34m\u001b[0m\u001b[0;34m\u001b[0m\u001b[0m\n\u001b[0;32m--> 533\u001b[0;31m         \u001b[0mresp\u001b[0m \u001b[0;34m=\u001b[0m \u001b[0mself\u001b[0m\u001b[0;34m.\u001b[0m\u001b[0msend\u001b[0m\u001b[0;34m(\u001b[0m\u001b[0mprep\u001b[0m\u001b[0;34m,\u001b[0m \u001b[0;34m**\u001b[0m\u001b[0msend_kwargs\u001b[0m\u001b[0;34m)\u001b[0m\u001b[0;34m\u001b[0m\u001b[0;34m\u001b[0m\u001b[0m\n\u001b[0m\u001b[1;32m    534\u001b[0m \u001b[0;34m\u001b[0m\u001b[0m\n\u001b[1;32m    535\u001b[0m         \u001b[0;32mreturn\u001b[0m \u001b[0mresp\u001b[0m\u001b[0;34m\u001b[0m\u001b[0;34m\u001b[0m\u001b[0m\n",
      "\u001b[0;32m/opt/anaconda3/lib/python3.7/site-packages/requests/sessions.py\u001b[0m in \u001b[0;36msend\u001b[0;34m(self, request, **kwargs)\u001b[0m\n\u001b[1;32m    644\u001b[0m \u001b[0;34m\u001b[0m\u001b[0m\n\u001b[1;32m    645\u001b[0m         \u001b[0;31m# Send the request\u001b[0m\u001b[0;34m\u001b[0m\u001b[0;34m\u001b[0m\u001b[0;34m\u001b[0m\u001b[0m\n\u001b[0;32m--> 646\u001b[0;31m         \u001b[0mr\u001b[0m \u001b[0;34m=\u001b[0m \u001b[0madapter\u001b[0m\u001b[0;34m.\u001b[0m\u001b[0msend\u001b[0m\u001b[0;34m(\u001b[0m\u001b[0mrequest\u001b[0m\u001b[0;34m,\u001b[0m \u001b[0;34m**\u001b[0m\u001b[0mkwargs\u001b[0m\u001b[0;34m)\u001b[0m\u001b[0;34m\u001b[0m\u001b[0;34m\u001b[0m\u001b[0m\n\u001b[0m\u001b[1;32m    647\u001b[0m \u001b[0;34m\u001b[0m\u001b[0m\n\u001b[1;32m    648\u001b[0m         \u001b[0;31m# Total elapsed time of the request (approximately)\u001b[0m\u001b[0;34m\u001b[0m\u001b[0;34m\u001b[0m\u001b[0;34m\u001b[0m\u001b[0m\n",
      "\u001b[0;32m/opt/anaconda3/lib/python3.7/site-packages/requests/adapters.py\u001b[0m in \u001b[0;36msend\u001b[0;34m(self, request, stream, timeout, verify, cert, proxies)\u001b[0m\n\u001b[1;32m    447\u001b[0m                     \u001b[0mdecode_content\u001b[0m\u001b[0;34m=\u001b[0m\u001b[0;32mFalse\u001b[0m\u001b[0;34m,\u001b[0m\u001b[0;34m\u001b[0m\u001b[0;34m\u001b[0m\u001b[0m\n\u001b[1;32m    448\u001b[0m                     \u001b[0mretries\u001b[0m\u001b[0;34m=\u001b[0m\u001b[0mself\u001b[0m\u001b[0;34m.\u001b[0m\u001b[0mmax_retries\u001b[0m\u001b[0;34m,\u001b[0m\u001b[0;34m\u001b[0m\u001b[0;34m\u001b[0m\u001b[0m\n\u001b[0;32m--> 449\u001b[0;31m                     \u001b[0mtimeout\u001b[0m\u001b[0;34m=\u001b[0m\u001b[0mtimeout\u001b[0m\u001b[0;34m\u001b[0m\u001b[0;34m\u001b[0m\u001b[0m\n\u001b[0m\u001b[1;32m    450\u001b[0m                 )\n\u001b[1;32m    451\u001b[0m \u001b[0;34m\u001b[0m\u001b[0m\n",
      "\u001b[0;32m/opt/anaconda3/lib/python3.7/site-packages/urllib3/connectionpool.py\u001b[0m in \u001b[0;36murlopen\u001b[0;34m(self, method, url, body, headers, retries, redirect, assert_same_host, timeout, pool_timeout, release_conn, chunked, body_pos, **response_kw)\u001b[0m\n\u001b[1;32m    670\u001b[0m                 \u001b[0mbody\u001b[0m\u001b[0;34m=\u001b[0m\u001b[0mbody\u001b[0m\u001b[0;34m,\u001b[0m\u001b[0;34m\u001b[0m\u001b[0;34m\u001b[0m\u001b[0m\n\u001b[1;32m    671\u001b[0m                 \u001b[0mheaders\u001b[0m\u001b[0;34m=\u001b[0m\u001b[0mheaders\u001b[0m\u001b[0;34m,\u001b[0m\u001b[0;34m\u001b[0m\u001b[0;34m\u001b[0m\u001b[0m\n\u001b[0;32m--> 672\u001b[0;31m                 \u001b[0mchunked\u001b[0m\u001b[0;34m=\u001b[0m\u001b[0mchunked\u001b[0m\u001b[0;34m,\u001b[0m\u001b[0;34m\u001b[0m\u001b[0;34m\u001b[0m\u001b[0m\n\u001b[0m\u001b[1;32m    673\u001b[0m             )\n\u001b[1;32m    674\u001b[0m \u001b[0;34m\u001b[0m\u001b[0m\n",
      "\u001b[0;32m/opt/anaconda3/lib/python3.7/site-packages/urllib3/connectionpool.py\u001b[0m in \u001b[0;36m_make_request\u001b[0;34m(self, conn, method, url, timeout, chunked, **httplib_request_kw)\u001b[0m\n\u001b[1;32m    374\u001b[0m         \u001b[0;31m# Trigger any extra validation we need to do.\u001b[0m\u001b[0;34m\u001b[0m\u001b[0;34m\u001b[0m\u001b[0;34m\u001b[0m\u001b[0m\n\u001b[1;32m    375\u001b[0m         \u001b[0;32mtry\u001b[0m\u001b[0;34m:\u001b[0m\u001b[0;34m\u001b[0m\u001b[0;34m\u001b[0m\u001b[0m\n\u001b[0;32m--> 376\u001b[0;31m             \u001b[0mself\u001b[0m\u001b[0;34m.\u001b[0m\u001b[0m_validate_conn\u001b[0m\u001b[0;34m(\u001b[0m\u001b[0mconn\u001b[0m\u001b[0;34m)\u001b[0m\u001b[0;34m\u001b[0m\u001b[0;34m\u001b[0m\u001b[0m\n\u001b[0m\u001b[1;32m    377\u001b[0m         \u001b[0;32mexcept\u001b[0m \u001b[0;34m(\u001b[0m\u001b[0mSocketTimeout\u001b[0m\u001b[0;34m,\u001b[0m \u001b[0mBaseSSLError\u001b[0m\u001b[0;34m)\u001b[0m \u001b[0;32mas\u001b[0m \u001b[0me\u001b[0m\u001b[0;34m:\u001b[0m\u001b[0;34m\u001b[0m\u001b[0;34m\u001b[0m\u001b[0m\n\u001b[1;32m    378\u001b[0m             \u001b[0;31m# Py2 raises this as a BaseSSLError, Py3 raises it as socket timeout.\u001b[0m\u001b[0;34m\u001b[0m\u001b[0;34m\u001b[0m\u001b[0;34m\u001b[0m\u001b[0m\n",
      "\u001b[0;32m/opt/anaconda3/lib/python3.7/site-packages/urllib3/connectionpool.py\u001b[0m in \u001b[0;36m_validate_conn\u001b[0;34m(self, conn)\u001b[0m\n\u001b[1;32m    992\u001b[0m         \u001b[0;31m# Force connect early to allow us to validate the connection.\u001b[0m\u001b[0;34m\u001b[0m\u001b[0;34m\u001b[0m\u001b[0;34m\u001b[0m\u001b[0m\n\u001b[1;32m    993\u001b[0m         \u001b[0;32mif\u001b[0m \u001b[0;32mnot\u001b[0m \u001b[0mgetattr\u001b[0m\u001b[0;34m(\u001b[0m\u001b[0mconn\u001b[0m\u001b[0;34m,\u001b[0m \u001b[0;34m\"sock\"\u001b[0m\u001b[0;34m,\u001b[0m \u001b[0;32mNone\u001b[0m\u001b[0;34m)\u001b[0m\u001b[0;34m:\u001b[0m  \u001b[0;31m# AppEngine might not have  `.sock`\u001b[0m\u001b[0;34m\u001b[0m\u001b[0;34m\u001b[0m\u001b[0m\n\u001b[0;32m--> 994\u001b[0;31m             \u001b[0mconn\u001b[0m\u001b[0;34m.\u001b[0m\u001b[0mconnect\u001b[0m\u001b[0;34m(\u001b[0m\u001b[0;34m)\u001b[0m\u001b[0;34m\u001b[0m\u001b[0;34m\u001b[0m\u001b[0m\n\u001b[0m\u001b[1;32m    995\u001b[0m \u001b[0;34m\u001b[0m\u001b[0m\n\u001b[1;32m    996\u001b[0m         \u001b[0;32mif\u001b[0m \u001b[0;32mnot\u001b[0m \u001b[0mconn\u001b[0m\u001b[0;34m.\u001b[0m\u001b[0mis_verified\u001b[0m\u001b[0;34m:\u001b[0m\u001b[0;34m\u001b[0m\u001b[0;34m\u001b[0m\u001b[0m\n",
      "\u001b[0;32m/opt/anaconda3/lib/python3.7/site-packages/urllib3/connection.py\u001b[0m in \u001b[0;36mconnect\u001b[0;34m(self)\u001b[0m\n\u001b[1;32m    358\u001b[0m             \u001b[0mca_cert_dir\u001b[0m\u001b[0;34m=\u001b[0m\u001b[0mself\u001b[0m\u001b[0;34m.\u001b[0m\u001b[0mca_cert_dir\u001b[0m\u001b[0;34m,\u001b[0m\u001b[0;34m\u001b[0m\u001b[0;34m\u001b[0m\u001b[0m\n\u001b[1;32m    359\u001b[0m             \u001b[0mserver_hostname\u001b[0m\u001b[0;34m=\u001b[0m\u001b[0mserver_hostname\u001b[0m\u001b[0;34m,\u001b[0m\u001b[0;34m\u001b[0m\u001b[0;34m\u001b[0m\u001b[0m\n\u001b[0;32m--> 360\u001b[0;31m             \u001b[0mssl_context\u001b[0m\u001b[0;34m=\u001b[0m\u001b[0mcontext\u001b[0m\u001b[0;34m,\u001b[0m\u001b[0;34m\u001b[0m\u001b[0;34m\u001b[0m\u001b[0m\n\u001b[0m\u001b[1;32m    361\u001b[0m         )\n\u001b[1;32m    362\u001b[0m \u001b[0;34m\u001b[0m\u001b[0m\n",
      "\u001b[0;32m/opt/anaconda3/lib/python3.7/site-packages/urllib3/util/ssl_.py\u001b[0m in \u001b[0;36mssl_wrap_socket\u001b[0;34m(sock, keyfile, certfile, cert_reqs, ca_certs, server_hostname, ssl_version, ciphers, ssl_context, ca_cert_dir, key_password)\u001b[0m\n\u001b[1;32m    334\u001b[0m     \u001b[0;32mif\u001b[0m \u001b[0mca_certs\u001b[0m \u001b[0;32mor\u001b[0m \u001b[0mca_cert_dir\u001b[0m\u001b[0;34m:\u001b[0m\u001b[0;34m\u001b[0m\u001b[0;34m\u001b[0m\u001b[0m\n\u001b[1;32m    335\u001b[0m         \u001b[0;32mtry\u001b[0m\u001b[0;34m:\u001b[0m\u001b[0;34m\u001b[0m\u001b[0;34m\u001b[0m\u001b[0m\n\u001b[0;32m--> 336\u001b[0;31m             \u001b[0mcontext\u001b[0m\u001b[0;34m.\u001b[0m\u001b[0mload_verify_locations\u001b[0m\u001b[0;34m(\u001b[0m\u001b[0mca_certs\u001b[0m\u001b[0;34m,\u001b[0m \u001b[0mca_cert_dir\u001b[0m\u001b[0;34m)\u001b[0m\u001b[0;34m\u001b[0m\u001b[0;34m\u001b[0m\u001b[0m\n\u001b[0m\u001b[1;32m    337\u001b[0m         \u001b[0;32mexcept\u001b[0m \u001b[0mIOError\u001b[0m \u001b[0;32mas\u001b[0m \u001b[0me\u001b[0m\u001b[0;34m:\u001b[0m  \u001b[0;31m# Platform-specific: Python 2.7\u001b[0m\u001b[0;34m\u001b[0m\u001b[0;34m\u001b[0m\u001b[0m\n\u001b[1;32m    338\u001b[0m             \u001b[0;32mraise\u001b[0m \u001b[0mSSLError\u001b[0m\u001b[0;34m(\u001b[0m\u001b[0me\u001b[0m\u001b[0;34m)\u001b[0m\u001b[0;34m\u001b[0m\u001b[0;34m\u001b[0m\u001b[0m\n",
      "\u001b[0;32m/opt/anaconda3/lib/python3.7/site-packages/urllib3/contrib/pyopenssl.py\u001b[0m in \u001b[0;36mload_verify_locations\u001b[0;34m(self, cafile, capath, cadata)\u001b[0m\n\u001b[1;32m    451\u001b[0m         \u001b[0;32mif\u001b[0m \u001b[0mcapath\u001b[0m \u001b[0;32mis\u001b[0m \u001b[0;32mnot\u001b[0m \u001b[0;32mNone\u001b[0m\u001b[0;34m:\u001b[0m\u001b[0;34m\u001b[0m\u001b[0;34m\u001b[0m\u001b[0m\n\u001b[1;32m    452\u001b[0m             \u001b[0mcapath\u001b[0m \u001b[0;34m=\u001b[0m \u001b[0mcapath\u001b[0m\u001b[0;34m.\u001b[0m\u001b[0mencode\u001b[0m\u001b[0;34m(\u001b[0m\u001b[0;34m\"utf-8\"\u001b[0m\u001b[0;34m)\u001b[0m\u001b[0;34m\u001b[0m\u001b[0;34m\u001b[0m\u001b[0m\n\u001b[0;32m--> 453\u001b[0;31m         \u001b[0mself\u001b[0m\u001b[0;34m.\u001b[0m\u001b[0m_ctx\u001b[0m\u001b[0;34m.\u001b[0m\u001b[0mload_verify_locations\u001b[0m\u001b[0;34m(\u001b[0m\u001b[0mcafile\u001b[0m\u001b[0;34m,\u001b[0m \u001b[0mcapath\u001b[0m\u001b[0;34m)\u001b[0m\u001b[0;34m\u001b[0m\u001b[0;34m\u001b[0m\u001b[0m\n\u001b[0m\u001b[1;32m    454\u001b[0m         \u001b[0;32mif\u001b[0m \u001b[0mcadata\u001b[0m \u001b[0;32mis\u001b[0m \u001b[0;32mnot\u001b[0m \u001b[0;32mNone\u001b[0m\u001b[0;34m:\u001b[0m\u001b[0;34m\u001b[0m\u001b[0;34m\u001b[0m\u001b[0m\n\u001b[1;32m    455\u001b[0m             \u001b[0mself\u001b[0m\u001b[0;34m.\u001b[0m\u001b[0m_ctx\u001b[0m\u001b[0;34m.\u001b[0m\u001b[0mload_verify_locations\u001b[0m\u001b[0;34m(\u001b[0m\u001b[0mBytesIO\u001b[0m\u001b[0;34m(\u001b[0m\u001b[0mcadata\u001b[0m\u001b[0;34m)\u001b[0m\u001b[0;34m)\u001b[0m\u001b[0;34m\u001b[0m\u001b[0;34m\u001b[0m\u001b[0m\n",
      "\u001b[0;32m/opt/anaconda3/lib/python3.7/site-packages/OpenSSL/SSL.py\u001b[0m in \u001b[0;36mload_verify_locations\u001b[0;34m(self, cafile, capath)\u001b[0m\n\u001b[1;32m    787\u001b[0m \u001b[0;34m\u001b[0m\u001b[0m\n\u001b[1;32m    788\u001b[0m         load_result = _lib.SSL_CTX_load_verify_locations(\n\u001b[0;32m--> 789\u001b[0;31m             \u001b[0mself\u001b[0m\u001b[0;34m.\u001b[0m\u001b[0m_context\u001b[0m\u001b[0;34m,\u001b[0m \u001b[0mcafile\u001b[0m\u001b[0;34m,\u001b[0m \u001b[0mcapath\u001b[0m\u001b[0;34m\u001b[0m\u001b[0;34m\u001b[0m\u001b[0m\n\u001b[0m\u001b[1;32m    790\u001b[0m         )\n\u001b[1;32m    791\u001b[0m         \u001b[0;32mif\u001b[0m \u001b[0;32mnot\u001b[0m \u001b[0mload_result\u001b[0m\u001b[0;34m:\u001b[0m\u001b[0;34m\u001b[0m\u001b[0;34m\u001b[0m\u001b[0m\n",
      "\u001b[0;31mKeyboardInterrupt\u001b[0m: "
     ]
    }
   ],
   "source": [
    "baseUrl = \"https://www.irishtimes.com/search/search-7.2285082?q=irish+economy&toDate=09-06-2020&pageId=2.709&page=\"\n",
    "\n",
    "for i in range(529,634):\n",
    "    print(str(i))\n",
    "    articleLinks = getArticleLinks(baseUrl + str(i))\n",
    "    for link in articleLinks:\n",
    "        parseArticle(link)\n",
    "        "
   ]
  },
  {
   "cell_type": "markdown",
   "metadata": {},
   "source": [
    "### CSV Structure\n",
    "id | url | date | text"
   ]
  },
  {
   "cell_type": "code",
   "execution_count": 11,
   "metadata": {},
   "outputs": [
    {
     "name": "stdout",
     "output_type": "stream",
     "text": [
      "<div class=\"article_bodycopy\">\n",
      "<p class=\"no_name\"><a class=\"search\" href=\"/topics/topics-7.1213540?article=true&amp;tag_organisation=European+Central+Bank\">European Central Bank</a> (ECB) president <a class=\"search\" href=\"/topics/topics-7.1213540?article=true&amp;tag_person=Christine+Lagarde\">Christine Lagarde</a> called on governments to launch an “ambitious and coordinated” financial response in light of the “major shock” to economic growth caused by Covid-19, as her institution disappointed financial markets by leaving its key interest rates unchanged.</p>\n",
      "<p class=\"no_name\">“Governments and all other policy institutions are called upon to take timely and targeted actions to address the public health challenge of containing the spread of the coronavirus and mitigate its economic risk,” Ms Lagarde said at a press conference on Thursday in Frankfurt.</p>\n",
      "<p class=\"no_name\">“In particular, an ambitious and coordinated fiscal policy response is required to support businesses and workers at risk.” </p>\n",
      "<p class=\"no_name\">European shares – measured by the pan-European Stoxx 600 index – plunged by a record 11.5 per cent as investors baulked at the ECB’s failure to follow the US Federal Reserve and Bank of England in cutting rates, even though the euro zone organisation did not have the same flexibility as other major central banks as its main rate stands at zero. </p>\n",
      "<p class=\"no_name\">There had been an expectation among economists that the ECB would cut its deposit rate, currently at minus 0.5 per cent. </p>\n",
      "<p class=\"no_name\">Bond markets were also rattled, with the market interest rate, or yield, on Italy’s 10-year bonds jumping from 1.21 per cent to as high as 1.89 per cent. The euro fell 1.2 per cent to $1.1132 by the time European trading came to an end. </p>\n",
      "<p class=\"no_name\">Still, the ECB said that it will increase its quantitative easing bond-buying programme, currently running at €20 billion a month, by a total of €120 billion through the remainder of the year. </p>\n",
      "<p class=\"no_name\">The ECB said it will roll out cheap loans for banks, at an interest rate of minus 0.75 per cent, and temporarily ease some of its capital requirements for banks to keep them lending. Ms Lagarde said that the bank “stands ready” to take further action “as appropriate”. </p>\n",
      "<div class=\"adwrapper\">\n",
      "<div class=\"ad-inline-article\" id=\"div-gpt-ad-InContent-1\">\n",
      "<script>\n",
      "                        googletag.cmd.push(function () {\n",
      "                            googletag.display('div-gpt-ad-InContent-1');\n",
      "                        });\n",
      "                    </script>\n",
      "</div>\n",
      "</div>\n",
      "<p class=\"no_name\">“Within our mandate, the governing council is determined to support households and firms in the face of the current economic disruptions and heightened uncertainty,” she said. </p>\n",
      "<h4 class=\"crosshead\">Stress tests</h4><p class=\"no_name\">Meanwhile, the European Banking Authority announced that it is postponing to 2021 planned banking stress tests that were scheduled to take place this year. </p>\n",
      "<p class=\"no_name\">“This will allow banks to focus on and ensure continuity of their core operations, including support for their customers,” the authority said. </p>\n",
      "<p class=\"no_name\">The EBA also added to mounting pressure on the Central Bank of Ireland to allow banks to tap capital reserves set aside for a rainy day to enable them to keep lending. The EBA said that it “encouraged” domestic regulators “to make full use of the flexibility embedded in the existing regulatory framework”. </p>\n",
      "<p class=\"no_name\">Goodbody Stockbrokers estimates the removal of a 1 per cent so-called counter-cyclical capital buffer (CCyB) that the Irish Central Bank has required banks to hold against risk-weighted assets since last July could support about €10 billion of additional lending to the economy as households and businesses grapple with the effects of the spread of Covid-19. </p>\n",
      "<p class=\"no_name\">Central banks and regulators across the EU have been obliged since the start of 2016 to make lenders ringfence funds as a counter-cyclical capital buffer when they judge that credit growth is becoming excessive.</p>\n",
      "<p class=\"no_name\">The buffers are in addition to normal capital reserve demands, and are part of a raft of new rules designed to avoid a future crisis. The extent to which the buffer applies varies across the EU. </p>\n",
      "<div class=\"shareToolsBottom\" id=\"share-base\">\n",
      "<div class=\"addthis_sharing_toolbox\">\n",
      "<div class=\"more-tools more-tools--hidden\">\n",
      "<div class=\"addthis_sharing_toolbox\">\n",
      "</div>\n",
      "<div class=\"more-tools--custom\">\n",
      "<a class=\"print social-icons-Print gtm-event\" data-evt-action=\"Print on Social Tools menu\" data-evt-category=\"Social Tools\" data-evt-label=\"/business/economy/christine-lagarde-calls-for-ambitious-actions-as-ecb-disappoints-1.4201089\" onclick=\"location.href='\t\t\t\t\t\t\t/business/economy/christine-lagarde-calls-for-ambitious-actions-as-ecb-disappoints-1.4201089\t?mode=print&amp;ot=example.AjaxPageLayout.ot'\" value=\"Print this page\"> </a>\n",
      "<a class=\"rss social-icons-RSS gtm-event\" data-evt-action=\"RSS on Social Tools menu\" data-evt-category=\"Social Tools\" data-evt-label=\"/business/economy/christine-lagarde-calls-for-ambitious-actions-as-ecb-disappoints-1.4201089\" href=\"/cmlink/activecampaign-business-digest-opinion-1.3174693\" target=\"_blank\"> </a>\n",
      "</div>\n",
      "</div>\n",
      "<div class=\"more-button--wrapper\">\n",
      "<a class=\"more-button social-icons-More\"> </a>\n",
      "</div>\n",
      "</div>\n",
      "</div>\n",
      "</div>\n"
     ]
    }
   ],
   "source": [
    "parseArticle(\"https://www.irishtimes.com/business/economy/christine-lagarde-calls-for-ambitious-actions-as-ecb-disappoints-1.4201089\")"
   ]
  },
  {
   "cell_type": "code",
   "execution_count": 23,
   "metadata": {
    "scrolled": false
   },
   "outputs": [
    {
     "data": {
      "text/plain": [
       "['https://www.irishtimes.com/business/economy/cantillon-1.1319332',\n",
       " 'https://www.irishtimes.com/business/economy/europe/europe-can-be-a-leader-of-the-new-industrial-revolution-1.1319323',\n",
       " 'https://www.irishtimes.com/business/economy/europe/we-should-explore-any-avenue-that-will-help-ireland-stand-on-its-own-feet-1.1319349',\n",
       " 'https://www.irishtimes.com/business/economy/world/irish-service-sector-grows-at-slowest-rate-in-six-months-1.1318166',\n",
       " 'https://www.irishtimes.com/business/economy/swiss-pay-cap-puts-some-execs-in-the-soup-1.1317400',\n",
       " 'https://www.irishtimes.com/business/economy/ireland/irish-consumer-sentiment-plunges-1.1318319',\n",
       " 'https://www.irishtimes.com/business/economy/ireland/services-sector-slows-in-february-1.1318352',\n",
       " 'https://www.irishtimes.com/business/economy/ireland/troika-to-devise-extension-options-1.1318281',\n",
       " 'https://www.irishtimes.com/business/economy/ireland/businesses-want-postcodes-introduced-1.1317055',\n",
       " 'https://www.irishtimes.com/business/economy/ireland/davy-lifts-forecast-for-irish-economy-1.1317057']"
      ]
     },
     "execution_count": 23,
     "metadata": {},
     "output_type": "execute_result"
    }
   ],
   "source": [
    "getArticleLinks(\"https://www.irishtimes.com/search/search-7.2285082?q=irish+economy&toDate=09-06-2020&pageId=2.709&page=529\")"
   ]
  }
 ],
 "metadata": {
  "kernelspec": {
   "display_name": "Python 3",
   "language": "python",
   "name": "python3"
  },
  "language_info": {
   "codemirror_mode": {
    "name": "ipython",
    "version": 3
   },
   "file_extension": ".py",
   "mimetype": "text/x-python",
   "name": "python",
   "nbconvert_exporter": "python",
   "pygments_lexer": "ipython3",
   "version": "3.7.6"
  }
 },
 "nbformat": 4,
 "nbformat_minor": 4
}
